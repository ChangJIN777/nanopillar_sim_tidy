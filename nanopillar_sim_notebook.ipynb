{
 "cells": [
  {
   "cell_type": "code",
   "execution_count": 9,
   "metadata": {},
   "outputs": [],
   "source": [
    "# standard python imports\n",
    "import numpy as np\n",
    "from numpy import random\n",
    "import matplotlib.pyplot as plt\n",
    "\n",
    "import tidy3d as td\n",
    "from tidy3d import web\n",
    "from nanopillar_sim_base import *"
   ]
  },
  {
   "cell_type": "code",
   "execution_count": 14,
   "metadata": {},
   "outputs": [],
   "source": [
    "# 1 nanometer in units of microns (for conversion)\n",
    "nm = 1e-3\n",
    "\n",
    "# resonant wavelength of the T center \n",
    "res_wavelength = 1326*nm \n",
    "f0 = td.C_0/res_wavelength \n",
    "fwidth = 20e12\n",
    "num_freqs = 100\n",
    "run_time = 50/fwidth\n",
    "\n",
    "# shape parameters of the pillar \n",
    "H = 220 * nm #um\n",
    "W = 300 * nm #um\n",
    "bulk_thickness = 10 #um\n",
    "\n",
    "# location of the dipole\n",
    "defect_z = 110 * nm #um\n",
    "\n",
    "# location of the monitor \n",
    "top_monitor_z = 1000 * nm # the z location of the top flux monitor \n",
    "bottom_monitor_z = -1000 * nm # the z location of the bottom flux monitor  \n",
    "\n",
    "# material parameters \n",
    "n_Si = 3.9595\n",
    "n_SiO2 = 1.4585\n",
    "Si = td.Medium(permittivity=n_Si**2)\n",
    "SiO2 = td.Medium(permittivity=n_SiO2**2)\n",
    "air = td.Medium(permittivity=1)\n",
    "\n",
    "# the size of the simluation \n",
    "sim_size = [2,2,4]\n",
    "\n",
    "# the size of the mesh box (for specifying the refined region of meshing)\n",
    "meshBox_x = 2\n",
    "meshBox_y = 2\n",
    "meshBox_z = 4\n"
   ]
  },
  {
   "cell_type": "markdown",
   "metadata": {},
   "source": [
    "## create nanopillar geometry "
   ]
  },
  {
   "cell_type": "code",
   "execution_count": 15,
   "metadata": {},
   "outputs": [
    {
     "data": {
      "text/html": [
       "<pre style=\"white-space:pre;overflow-x:auto;line-height:normal;font-family:Menlo,'DejaVu Sans Mono',consolas,'Courier New',monospace\"><span style=\"color: #7fbfbf; text-decoration-color: #7fbfbf\">[15:44:45] </span><span style=\"color: #800000; text-decoration-color: #800000\">WARNING: Default value for the field monitor </span><span style=\"color: #008000; text-decoration-color: #008000\">'colocate'</span><span style=\"color: #800000; text-decoration-color: #800000\"> setting has  </span>\n",
       "<span style=\"color: #7fbfbf; text-decoration-color: #7fbfbf\">           </span><span style=\"color: #800000; text-decoration-color: #800000\">changed to </span><span style=\"color: #008000; text-decoration-color: #008000\">'True'</span><span style=\"color: #800000; text-decoration-color: #800000\"> in Tidy3D </span><span style=\"color: #008080; text-decoration-color: #008080; font-weight: bold\">2.4</span><span style=\"color: #800000; text-decoration-color: #800000\">.</span><span style=\"color: #008080; text-decoration-color: #008080; font-weight: bold\">0</span><span style=\"color: #800000; text-decoration-color: #800000\">. All field components will be      </span>\n",
       "<span style=\"color: #7fbfbf; text-decoration-color: #7fbfbf\">           </span><span style=\"color: #800000; text-decoration-color: #800000\">colocated to the grid boundaries. Set to </span><span style=\"color: #008000; text-decoration-color: #008000\">'False'</span><span style=\"color: #800000; text-decoration-color: #800000\"> to get the raw      </span>\n",
       "<span style=\"color: #7fbfbf; text-decoration-color: #7fbfbf\">           </span><span style=\"color: #800000; text-decoration-color: #800000\">fields on the Yee grid instead.                                      </span>\n",
       "</pre>\n"
      ],
      "text/plain": [
       "\u001b[2;36m[15:44:45]\u001b[0m\u001b[2;36m \u001b[0m\u001b[31mWARNING: Default value for the field monitor \u001b[0m\u001b[32m'colocate'\u001b[0m\u001b[31m setting has  \u001b[0m\n",
       "\u001b[2;36m           \u001b[0m\u001b[31mchanged to \u001b[0m\u001b[32m'True'\u001b[0m\u001b[31m in Tidy3D \u001b[0m\u001b[1;36m2.4\u001b[0m\u001b[31m.\u001b[0m\u001b[1;36m0\u001b[0m\u001b[31m. All field components will be      \u001b[0m\n",
       "\u001b[2;36m           \u001b[0m\u001b[31mcolocated to the grid boundaries. Set to \u001b[0m\u001b[32m'False'\u001b[0m\u001b[31m to get the raw      \u001b[0m\n",
       "\u001b[2;36m           \u001b[0m\u001b[31mfields on the Yee grid instead.                                      \u001b[0m\n"
      ]
     },
     "metadata": {},
     "output_type": "display_data"
    }
   ],
   "source": [
    "# define the substrate\n",
    "bulk_substrate = td.Structure(\n",
    "    geometry=td.Box(\n",
    "        center=[0, 0, -bulk_thickness/2],\n",
    "        size=[td.inf, td.inf, bulk_thickness],\n",
    "    ),\n",
    "    medium=SiO2\n",
    ")\n",
    "\n",
    "# define the nanopillar structure \n",
    "nanopillar_substrate = td.Structure(\n",
    "    geometry=td.Cylinder(\n",
    "        center=(0, 0, H/2),\n",
    "        radius=W/2,\n",
    "        length=H,\n",
    "        axis=2\n",
    "    ),\n",
    "    medium=Si\n",
    ")\n",
    "\n",
    "# define the dipole source\n",
    "pulse = td.GaussianPulse(freq0=f0,fwidth=20e12)\n",
    "freqs = np.linspace(f0-fwidth/2,f0+fwidth/2,num_freqs)\n",
    "source = td.PointDipole(center=(0,0,H-defect_z), source_time=pulse, polarization='Ex')\n",
    "\n",
    "# define the monitors \n",
    "field_monitor = td.FieldMonitor(\n",
    "            fields=['Ex'],\n",
    "            size=(td.inf, 0, td.inf),\n",
    "            center=(0,0,0),\n",
    "            freqs=[f0],\n",
    "            name='field')\n",
    "\n",
    "flux_monitor_top = td.FluxMonitor(\n",
    "            size=(td.inf,td.inf,0),\n",
    "            center=(0,0,top_monitor_z),\n",
    "            freqs=freqs,\n",
    "            name='top_monitor',\n",
    "            normal_dir = \"-\")\n",
    "\n",
    "flux_monitor_bottom = td.FluxMonitor(\n",
    "            size=(td.inf,td.inf,0),\n",
    "            center=(0,0,bottom_monitor_z),\n",
    "            freqs=freqs,\n",
    "            name='bottom_monitor',\n",
    "            normal_dir = \"+\")\n"
   ]
  },
  {
   "cell_type": "markdown",
   "metadata": {},
   "source": [
    "## define the simulation "
   ]
  },
  {
   "cell_type": "code",
   "execution_count": 16,
   "metadata": {},
   "outputs": [],
   "source": [
    "nanopillar_sim = td.Simulation(size=sim_size,\n",
    "                               grid_spec=td.GridSpec.auto(min_steps_per_wvl=10),\n",
    "                               run_time=run_time,\n",
    "                               boundary_spec=td.BoundarySpec.all_sides(boundary=td.PML()),\n",
    "                               structures = [nanopillar_substrate,bulk_substrate],\n",
    "                               sources=[source],\n",
    "                               monitors = [field_monitor,flux_monitor_top,flux_monitor_bottom])"
   ]
  },
  {
   "cell_type": "markdown",
   "metadata": {},
   "source": [
    "## plot the simualtion in 3D "
   ]
  },
  {
   "cell_type": "code",
   "execution_count": 17,
   "metadata": {},
   "outputs": [
    {
     "data": {
      "text/html": [
       "\n",
       "    <iframe id=\"simulation-viewer172115909003562567\" src=https://feature-simulation-viewer.d3a9gfg7glllfq.amplifyapp.com/simulation-viewer?uuid=172115909003562567 width=\"800\" height=\"800\" allowfullscreen=\"true\"></iframe>\n",
       "    <script>\n",
       "        \n",
       "    window.postMessageToViewer172115909003562567 = event => {\n",
       "        if(event.data.type === 'viewer'&&event.data.uuid==='172115909003562567'){\n",
       "            document.getElementById('simulation-viewer172115909003562567').contentWindow.postMessage({ type: 'jupyter', uuid:'172115909003562567', value:{\n",
       "    \"type\": \"Simulation\",\n",
       "    \"center\": [\n",
       "        0.0,\n",
       "        0.0,\n",
       "        0.0\n",
       "    ],\n",
       "    \"size\": [\n",
       "        2.0,\n",
       "        2.0,\n",
       "        5.0\n",
       "    ],\n",
       "    \"run_time\": 2.5e-12,\n",
       "    \"medium\": {\n",
       "        \"name\": null,\n",
       "        \"frequency_range\": null,\n",
       "        \"allow_gain\": false,\n",
       "        \"nonlinear_spec\": null,\n",
       "        \"type\": \"Medium\",\n",
       "        \"permittivity\": 1.0,\n",
       "        \"conductivity\": 0.0\n",
       "    },\n",
       "    \"symmetry\": [\n",
       "        0,\n",
       "        0,\n",
       "        0\n",
       "    ],\n",
       "    \"structures\": [\n",
       "        {\n",
       "            \"geometry\": {\n",
       "                \"type\": \"Cylinder\",\n",
       "                \"axis\": 2,\n",
       "                \"sidewall_angle\": 0.0,\n",
       "                \"reference_plane\": \"middle\",\n",
       "                \"radius\": 0.15,\n",
       "                \"center\": [\n",
       "                    0.0,\n",
       "                    0.0,\n",
       "                    0.11\n",
       "                ],\n",
       "                \"length\": 0.22\n",
       "            },\n",
       "            \"name\": null,\n",
       "            \"type\": \"Structure\",\n",
       "            \"medium\": {\n",
       "                \"name\": null,\n",
       "                \"frequency_range\": null,\n",
       "                \"allow_gain\": false,\n",
       "                \"nonlinear_spec\": null,\n",
       "                \"type\": \"Medium\",\n",
       "                \"permittivity\": 15.677640249999998,\n",
       "                \"conductivity\": 0.0\n",
       "            }\n",
       "        },\n",
       "        {\n",
       "            \"geometry\": {\n",
       "                \"type\": \"Box\",\n",
       "                \"center\": [\n",
       "                    0.0,\n",
       "                    0.0,\n",
       "                    -5.0\n",
       "                ],\n",
       "                \"size\": [\n",
       "                    \"Infinity\",\n",
       "                    \"Infinity\",\n",
       "                    10.0\n",
       "                ]\n",
       "            },\n",
       "            \"name\": null,\n",
       "            \"type\": \"Structure\",\n",
       "            \"medium\": {\n",
       "                \"name\": null,\n",
       "                \"frequency_range\": null,\n",
       "                \"allow_gain\": false,\n",
       "                \"nonlinear_spec\": null,\n",
       "                \"type\": \"Medium\",\n",
       "                \"permittivity\": 2.1272222499999995,\n",
       "                \"conductivity\": 0.0\n",
       "            }\n",
       "        }\n",
       "    ],\n",
       "    \"sources\": [\n",
       "        {\n",
       "            \"type\": \"PointDipole\",\n",
       "            \"center\": [\n",
       "                0.0,\n",
       "                0.0,\n",
       "                0.11\n",
       "            ],\n",
       "            \"size\": [\n",
       "                0,\n",
       "                0,\n",
       "                0\n",
       "            ],\n",
       "            \"source_time\": {\n",
       "                \"amplitude\": 1.0,\n",
       "                \"phase\": 0.0,\n",
       "                \"type\": \"GaussianPulse\",\n",
       "                \"freq0\": 226087826546003.0,\n",
       "                \"fwidth\": 20000000000000.0,\n",
       "                \"offset\": 5.0,\n",
       "                \"remove_dc_component\": true\n",
       "            },\n",
       "            \"name\": null,\n",
       "            \"interpolate\": true,\n",
       "            \"polarization\": \"Ex\"\n",
       "        }\n",
       "    ],\n",
       "    \"boundary_spec\": {\n",
       "        \"x\": {\n",
       "            \"plus\": {\n",
       "                \"name\": null,\n",
       "                \"type\": \"PML\",\n",
       "                \"num_layers\": 12,\n",
       "                \"parameters\": {\n",
       "                    \"sigma_order\": 3,\n",
       "                    \"sigma_min\": 0.0,\n",
       "                    \"sigma_max\": 1.5,\n",
       "                    \"type\": \"PMLParams\",\n",
       "                    \"kappa_order\": 3,\n",
       "                    \"kappa_min\": 1.0,\n",
       "                    \"kappa_max\": 3.0,\n",
       "                    \"alpha_order\": 1,\n",
       "                    \"alpha_min\": 0.0,\n",
       "                    \"alpha_max\": 0.0\n",
       "                }\n",
       "            },\n",
       "            \"minus\": {\n",
       "                \"name\": null,\n",
       "                \"type\": \"PML\",\n",
       "                \"num_layers\": 12,\n",
       "                \"parameters\": {\n",
       "                    \"sigma_order\": 3,\n",
       "                    \"sigma_min\": 0.0,\n",
       "                    \"sigma_max\": 1.5,\n",
       "                    \"type\": \"PMLParams\",\n",
       "                    \"kappa_order\": 3,\n",
       "                    \"kappa_min\": 1.0,\n",
       "                    \"kappa_max\": 3.0,\n",
       "                    \"alpha_order\": 1,\n",
       "                    \"alpha_min\": 0.0,\n",
       "                    \"alpha_max\": 0.0\n",
       "                }\n",
       "            },\n",
       "            \"type\": \"Boundary\"\n",
       "        },\n",
       "        \"y\": {\n",
       "            \"plus\": {\n",
       "                \"name\": null,\n",
       "                \"type\": \"PML\",\n",
       "                \"num_layers\": 12,\n",
       "                \"parameters\": {\n",
       "                    \"sigma_order\": 3,\n",
       "                    \"sigma_min\": 0.0,\n",
       "                    \"sigma_max\": 1.5,\n",
       "                    \"type\": \"PMLParams\",\n",
       "                    \"kappa_order\": 3,\n",
       "                    \"kappa_min\": 1.0,\n",
       "                    \"kappa_max\": 3.0,\n",
       "                    \"alpha_order\": 1,\n",
       "                    \"alpha_min\": 0.0,\n",
       "                    \"alpha_max\": 0.0\n",
       "                }\n",
       "            },\n",
       "            \"minus\": {\n",
       "                \"name\": null,\n",
       "                \"type\": \"PML\",\n",
       "                \"num_layers\": 12,\n",
       "                \"parameters\": {\n",
       "                    \"sigma_order\": 3,\n",
       "                    \"sigma_min\": 0.0,\n",
       "                    \"sigma_max\": 1.5,\n",
       "                    \"type\": \"PMLParams\",\n",
       "                    \"kappa_order\": 3,\n",
       "                    \"kappa_min\": 1.0,\n",
       "                    \"kappa_max\": 3.0,\n",
       "                    \"alpha_order\": 1,\n",
       "                    \"alpha_min\": 0.0,\n",
       "                    \"alpha_max\": 0.0\n",
       "                }\n",
       "            },\n",
       "            \"type\": \"Boundary\"\n",
       "        },\n",
       "        \"z\": {\n",
       "            \"plus\": {\n",
       "                \"name\": null,\n",
       "                \"type\": \"PML\",\n",
       "                \"num_layers\": 12,\n",
       "                \"parameters\": {\n",
       "                    \"sigma_order\": 3,\n",
       "                    \"sigma_min\": 0.0,\n",
       "                    \"sigma_max\": 1.5,\n",
       "                    \"type\": \"PMLParams\",\n",
       "                    \"kappa_order\": 3,\n",
       "                    \"kappa_min\": 1.0,\n",
       "                    \"kappa_max\": 3.0,\n",
       "                    \"alpha_order\": 1,\n",
       "                    \"alpha_min\": 0.0,\n",
       "                    \"alpha_max\": 0.0\n",
       "                }\n",
       "            },\n",
       "            \"minus\": {\n",
       "                \"name\": null,\n",
       "                \"type\": \"PML\",\n",
       "                \"num_layers\": 12,\n",
       "                \"parameters\": {\n",
       "                    \"sigma_order\": 3,\n",
       "                    \"sigma_min\": 0.0,\n",
       "                    \"sigma_max\": 1.5,\n",
       "                    \"type\": \"PMLParams\",\n",
       "                    \"kappa_order\": 3,\n",
       "                    \"kappa_min\": 1.0,\n",
       "                    \"kappa_max\": 3.0,\n",
       "                    \"alpha_order\": 1,\n",
       "                    \"alpha_min\": 0.0,\n",
       "                    \"alpha_max\": 0.0\n",
       "                }\n",
       "            },\n",
       "            \"type\": \"Boundary\"\n",
       "        },\n",
       "        \"type\": \"BoundarySpec\"\n",
       "    },\n",
       "    \"monitors\": [\n",
       "        {\n",
       "            \"type\": \"FieldMonitor\",\n",
       "            \"center\": [\n",
       "                0.0,\n",
       "                0.0,\n",
       "                0.0\n",
       "            ],\n",
       "            \"size\": [\n",
       "                \"Infinity\",\n",
       "                0.0,\n",
       "                \"Infinity\"\n",
       "            ],\n",
       "            \"name\": \"field\",\n",
       "            \"interval_space\": [\n",
       "                1,\n",
       "                1,\n",
       "                1\n",
       "            ],\n",
       "            \"colocate\": true,\n",
       "            \"freqs\": [\n",
       "                226087826546003.0\n",
       "            ],\n",
       "            \"apodization\": {\n",
       "                \"start\": null,\n",
       "                \"end\": null,\n",
       "                \"width\": null,\n",
       "                \"type\": \"ApodizationSpec\"\n",
       "            },\n",
       "            \"fields\": [\n",
       "                \"Ex\"\n",
       "            ]\n",
       "        },\n",
       "        {\n",
       "            \"type\": \"FluxMonitor\",\n",
       "            \"center\": [\n",
       "                0.0,\n",
       "                0.0,\n",
       "                1.0\n",
       "            ],\n",
       "            \"size\": [\n",
       "                \"Infinity\",\n",
       "                \"Infinity\",\n",
       "                0.0\n",
       "            ],\n",
       "            \"name\": \"top_monitor\",\n",
       "            \"interval_space\": [\n",
       "                1,\n",
       "                1,\n",
       "                1\n",
       "            ],\n",
       "            \"colocate\": true,\n",
       "            \"freqs\": [\n",
       "                216087826546003.0,\n",
       "                216289846748023.2,\n",
       "                216491866950043.4,\n",
       "                216693887152063.6,\n",
       "                216895907354083.8,\n",
       "                217097927556104.0,\n",
       "                217299947758124.22,\n",
       "                217501967960144.4,\n",
       "                217703988162164.62,\n",
       "                217906008364184.8,\n",
       "                218108028566205.03,\n",
       "                218310048768225.22,\n",
       "                218512068970245.44,\n",
       "                218714089172265.62,\n",
       "                218916109374285.8,\n",
       "                219118129576306.03,\n",
       "                219320149778326.22,\n",
       "                219522169980346.44,\n",
       "                219724190182366.62,\n",
       "                219926210384386.84,\n",
       "                220128230586407.03,\n",
       "                220330250788427.25,\n",
       "                220532270990447.44,\n",
       "                220734291192467.66,\n",
       "                220936311394487.84,\n",
       "                221138331596508.06,\n",
       "                221340351798528.25,\n",
       "                221542372000548.47,\n",
       "                221744392202568.66,\n",
       "                221946412404588.84,\n",
       "                222148432606609.06,\n",
       "                222350452808629.25,\n",
       "                222552473010649.47,\n",
       "                222754493212669.66,\n",
       "                222956513414689.88,\n",
       "                223158533616710.06,\n",
       "                223360553818730.28,\n",
       "                223562574020750.47,\n",
       "                223764594222770.7,\n",
       "                223966614424790.88,\n",
       "                224168634626811.1,\n",
       "                224370654828831.28,\n",
       "                224572675030851.5,\n",
       "                224774695232871.7,\n",
       "                224976715434891.88,\n",
       "                225178735636912.1,\n",
       "                225380755838932.28,\n",
       "                225582776040952.5,\n",
       "                225784796242972.7,\n",
       "                225986816444992.9,\n",
       "                226188836647013.1,\n",
       "                226390856849033.3,\n",
       "                226592877051053.5,\n",
       "                226794897253073.72,\n",
       "                226996917455093.9,\n",
       "                227198937657114.12,\n",
       "                227400957859134.3,\n",
       "                227602978061154.5,\n",
       "                227804998263174.72,\n",
       "                228007018465194.9,\n",
       "                228209038667215.12,\n",
       "                228411058869235.3,\n",
       "                228613079071255.53,\n",
       "                228815099273275.72,\n",
       "                229017119475295.94,\n",
       "                229219139677316.12,\n",
       "                229421159879336.34,\n",
       "                229623180081356.53,\n",
       "                229825200283376.75,\n",
       "                230027220485396.94,\n",
       "                230229240687417.16,\n",
       "                230431260889437.34,\n",
       "                230633281091457.56,\n",
       "                230835301293477.75,\n",
       "                231037321495497.94,\n",
       "                231239341697518.16,\n",
       "                231441361899538.34,\n",
       "                231643382101558.56,\n",
       "                231845402303578.75,\n",
       "                232047422505598.97,\n",
       "                232249442707619.16,\n",
       "                232451462909639.38,\n",
       "                232653483111659.56,\n",
       "                232855503313679.78,\n",
       "                233057523515699.97,\n",
       "                233259543717720.2,\n",
       "                233461563919740.38,\n",
       "                233663584121760.56,\n",
       "                233865604323780.78,\n",
       "                234067624525800.97,\n",
       "                234269644727821.2,\n",
       "                234471664929841.38,\n",
       "                234673685131861.6,\n",
       "                234875705333881.78,\n",
       "                235077725535902.0,\n",
       "                235279745737922.2,\n",
       "                235481765939942.4,\n",
       "                235683786141962.6,\n",
       "                235885806343982.8,\n",
       "                236087826546003.0\n",
       "            ],\n",
       "            \"apodization\": {\n",
       "                \"start\": null,\n",
       "                \"end\": null,\n",
       "                \"width\": null,\n",
       "                \"type\": \"ApodizationSpec\"\n",
       "            },\n",
       "            \"normal_dir\": \"-\",\n",
       "            \"exclude_surfaces\": null\n",
       "        },\n",
       "        {\n",
       "            \"type\": \"FluxMonitor\",\n",
       "            \"center\": [\n",
       "                0.0,\n",
       "                0.0,\n",
       "                -1.0\n",
       "            ],\n",
       "            \"size\": [\n",
       "                \"Infinity\",\n",
       "                \"Infinity\",\n",
       "                0.0\n",
       "            ],\n",
       "            \"name\": \"bottom_monitor\",\n",
       "            \"interval_space\": [\n",
       "                1,\n",
       "                1,\n",
       "                1\n",
       "            ],\n",
       "            \"colocate\": true,\n",
       "            \"freqs\": [\n",
       "                216087826546003.0,\n",
       "                216289846748023.2,\n",
       "                216491866950043.4,\n",
       "                216693887152063.6,\n",
       "                216895907354083.8,\n",
       "                217097927556104.0,\n",
       "                217299947758124.22,\n",
       "                217501967960144.4,\n",
       "                217703988162164.62,\n",
       "                217906008364184.8,\n",
       "                218108028566205.03,\n",
       "                218310048768225.22,\n",
       "                218512068970245.44,\n",
       "                218714089172265.62,\n",
       "                218916109374285.8,\n",
       "                219118129576306.03,\n",
       "                219320149778326.22,\n",
       "                219522169980346.44,\n",
       "                219724190182366.62,\n",
       "                219926210384386.84,\n",
       "                220128230586407.03,\n",
       "                220330250788427.25,\n",
       "                220532270990447.44,\n",
       "                220734291192467.66,\n",
       "                220936311394487.84,\n",
       "                221138331596508.06,\n",
       "                221340351798528.25,\n",
       "                221542372000548.47,\n",
       "                221744392202568.66,\n",
       "                221946412404588.84,\n",
       "                222148432606609.06,\n",
       "                222350452808629.25,\n",
       "                222552473010649.47,\n",
       "                222754493212669.66,\n",
       "                222956513414689.88,\n",
       "                223158533616710.06,\n",
       "                223360553818730.28,\n",
       "                223562574020750.47,\n",
       "                223764594222770.7,\n",
       "                223966614424790.88,\n",
       "                224168634626811.1,\n",
       "                224370654828831.28,\n",
       "                224572675030851.5,\n",
       "                224774695232871.7,\n",
       "                224976715434891.88,\n",
       "                225178735636912.1,\n",
       "                225380755838932.28,\n",
       "                225582776040952.5,\n",
       "                225784796242972.7,\n",
       "                225986816444992.9,\n",
       "                226188836647013.1,\n",
       "                226390856849033.3,\n",
       "                226592877051053.5,\n",
       "                226794897253073.72,\n",
       "                226996917455093.9,\n",
       "                227198937657114.12,\n",
       "                227400957859134.3,\n",
       "                227602978061154.5,\n",
       "                227804998263174.72,\n",
       "                228007018465194.9,\n",
       "                228209038667215.12,\n",
       "                228411058869235.3,\n",
       "                228613079071255.53,\n",
       "                228815099273275.72,\n",
       "                229017119475295.94,\n",
       "                229219139677316.12,\n",
       "                229421159879336.34,\n",
       "                229623180081356.53,\n",
       "                229825200283376.75,\n",
       "                230027220485396.94,\n",
       "                230229240687417.16,\n",
       "                230431260889437.34,\n",
       "                230633281091457.56,\n",
       "                230835301293477.75,\n",
       "                231037321495497.94,\n",
       "                231239341697518.16,\n",
       "                231441361899538.34,\n",
       "                231643382101558.56,\n",
       "                231845402303578.75,\n",
       "                232047422505598.97,\n",
       "                232249442707619.16,\n",
       "                232451462909639.38,\n",
       "                232653483111659.56,\n",
       "                232855503313679.78,\n",
       "                233057523515699.97,\n",
       "                233259543717720.2,\n",
       "                233461563919740.38,\n",
       "                233663584121760.56,\n",
       "                233865604323780.78,\n",
       "                234067624525800.97,\n",
       "                234269644727821.2,\n",
       "                234471664929841.38,\n",
       "                234673685131861.6,\n",
       "                234875705333881.78,\n",
       "                235077725535902.0,\n",
       "                235279745737922.2,\n",
       "                235481765939942.4,\n",
       "                235683786141962.6,\n",
       "                235885806343982.8,\n",
       "                236087826546003.0\n",
       "            ],\n",
       "            \"apodization\": {\n",
       "                \"start\": null,\n",
       "                \"end\": null,\n",
       "                \"width\": null,\n",
       "                \"type\": \"ApodizationSpec\"\n",
       "            },\n",
       "            \"normal_dir\": \"+\",\n",
       "            \"exclude_surfaces\": null\n",
       "        }\n",
       "    ],\n",
       "    \"grid_spec\": {\n",
       "        \"grid_x\": {\n",
       "            \"type\": \"AutoGrid\",\n",
       "            \"min_steps_per_wvl\": 10.0,\n",
       "            \"max_scale\": 1.4,\n",
       "            \"dl_min\": 0.0,\n",
       "            \"mesher\": {\n",
       "                \"type\": \"GradedMesher\"\n",
       "            }\n",
       "        },\n",
       "        \"grid_y\": {\n",
       "            \"type\": \"AutoGrid\",\n",
       "            \"min_steps_per_wvl\": 10.0,\n",
       "            \"max_scale\": 1.4,\n",
       "            \"dl_min\": 0.0,\n",
       "            \"mesher\": {\n",
       "                \"type\": \"GradedMesher\"\n",
       "            }\n",
       "        },\n",
       "        \"grid_z\": {\n",
       "            \"type\": \"AutoGrid\",\n",
       "            \"min_steps_per_wvl\": 10.0,\n",
       "            \"max_scale\": 1.4,\n",
       "            \"dl_min\": 0.0,\n",
       "            \"mesher\": {\n",
       "                \"type\": \"GradedMesher\"\n",
       "            }\n",
       "        },\n",
       "        \"wavelength\": null,\n",
       "        \"override_structures\": [],\n",
       "        \"type\": \"GridSpec\"\n",
       "    },\n",
       "    \"shutoff\": 1e-05,\n",
       "    \"subpixel\": true,\n",
       "    \"normalize_index\": 0,\n",
       "    \"courant\": 0.99,\n",
       "    \"version\": \"2.4.3\"\n",
       "}}, '*')\n",
       "        }\n",
       "    };\n",
       "    window.addEventListener(\n",
       "        'message',\n",
       "        window.postMessageToViewer172115909003562567,\n",
       "        false\n",
       "    );\n",
       "    \n",
       "    </script>\n",
       "    "
      ],
      "text/plain": [
       "<IPython.core.display.HTML object>"
      ]
     },
     "metadata": {},
     "output_type": "display_data"
    }
   ],
   "source": [
    "nanopillar_sim.plot_3d()"
   ]
  },
  {
   "cell_type": "markdown",
   "metadata": {},
   "source": [
    "## estimate the cost"
   ]
  },
  {
   "cell_type": "code",
   "execution_count": 6,
   "metadata": {},
   "outputs": [
    {
     "data": {
      "text/html": [
       "<pre style=\"white-space:pre;overflow-x:auto;line-height:normal;font-family:Menlo,'DejaVu Sans Mono',consolas,'Courier New',monospace\"><span style=\"color: #7fbfbf; text-decoration-color: #7fbfbf\">[14:41:23] </span>Created task <span style=\"color: #008000; text-decoration-color: #008000\">'nanopillar_job'</span> with task_id                           \n",
       "<span style=\"color: #7fbfbf; text-decoration-color: #7fbfbf\">           </span><span style=\"color: #008000; text-decoration-color: #008000\">'fdve-c70d4f1c-07dc-476d-81e7-565503e42895'</span>.                         \n",
       "</pre>\n"
      ],
      "text/plain": [
       "\u001b[2;36m[14:41:23]\u001b[0m\u001b[2;36m \u001b[0mCreated task \u001b[32m'nanopillar_job'\u001b[0m with task_id                           \n",
       "\u001b[2;36m           \u001b[0m\u001b[32m'fdve-c70d4f1c-07dc-476d-81e7-565503e42895'\u001b[0m.                         \n"
      ]
     },
     "metadata": {},
     "output_type": "display_data"
    },
    {
     "data": {
      "text/html": [
       "<pre style=\"white-space:pre;overflow-x:auto;line-height:normal;font-family:Menlo,'DejaVu Sans Mono',consolas,'Courier New',monospace\"><span style=\"color: #7fbfbf; text-decoration-color: #7fbfbf\">           </span>View task using web UI at                                            \n",
       "<span style=\"color: #7fbfbf; text-decoration-color: #7fbfbf\">           </span><a href=\"https://tidy3d.simulation.cloud/workbench?taskId=fdve-c70d4f1c-07dc-476d-81e7-565503e42895\" target=\"_blank\"><span style=\"color: #000080; text-decoration-color: #000080; text-decoration: underline\">'https://tidy3d.simulation.cloud/workbench?taskId=fdve-c70d4f1c-07dc-</span></a>\n",
       "<span style=\"color: #7fbfbf; text-decoration-color: #7fbfbf\">           </span><a href=\"https://tidy3d.simulation.cloud/workbench?taskId=fdve-c70d4f1c-07dc-476d-81e7-565503e42895\" target=\"_blank\"><span style=\"color: #000080; text-decoration-color: #000080; text-decoration: underline\">476d-81e7-565503e42895'</span></a><span style=\"color: #000080; text-decoration-color: #000080; text-decoration: underline\">.</span>                                             \n",
       "</pre>\n"
      ],
      "text/plain": [
       "\u001b[2;36m          \u001b[0m\u001b[2;36m \u001b[0mView task using web UI at                                            \n",
       "\u001b[2;36m           \u001b[0m\u001b]8;id=806385;https://tidy3d.simulation.cloud/workbench?taskId=fdve-c70d4f1c-07dc-476d-81e7-565503e42895\u001b\\\u001b[4;34m'https://tidy3d.simulation.cloud/workbench?\u001b[0m\u001b]8;;\u001b\\\u001b]8;id=689593;https://tidy3d.simulation.cloud/workbench?taskId=fdve-c70d4f1c-07dc-476d-81e7-565503e42895\u001b\\\u001b[4;34mtaskId\u001b[0m\u001b]8;;\u001b\\\u001b]8;id=806385;https://tidy3d.simulation.cloud/workbench?taskId=fdve-c70d4f1c-07dc-476d-81e7-565503e42895\u001b\\\u001b[4;34m=\u001b[0m\u001b]8;;\u001b\\\u001b]8;id=982538;https://tidy3d.simulation.cloud/workbench?taskId=fdve-c70d4f1c-07dc-476d-81e7-565503e42895\u001b\\\u001b[4;34mfdve\u001b[0m\u001b]8;;\u001b\\\u001b]8;id=806385;https://tidy3d.simulation.cloud/workbench?taskId=fdve-c70d4f1c-07dc-476d-81e7-565503e42895\u001b\\\u001b[4;34m-c70d4f1c-07dc-\u001b[0m\u001b]8;;\u001b\\\n",
       "\u001b[2;36m           \u001b[0m\u001b]8;id=806385;https://tidy3d.simulation.cloud/workbench?taskId=fdve-c70d4f1c-07dc-476d-81e7-565503e42895\u001b\\\u001b[4;34m476d-81e7-565503e42895'\u001b[0m\u001b]8;;\u001b\\\u001b[4;34m.\u001b[0m                                             \n"
      ]
     },
     "metadata": {},
     "output_type": "display_data"
    },
    {
     "data": {
      "text/html": [
       "<pre style=\"white-space:pre;overflow-x:auto;line-height:normal;font-family:Menlo,'DejaVu Sans Mono',consolas,'Courier New',monospace\">C:\\Users\\LoncarGroup\\AppData\\Roaming\\Python\\Python311\\site-packages\\rich\\live.py\n",
       ":229: UserWarning: install \"ipywidgets\" for Jupyter support\n",
       "  warnings.warn('install \"ipywidgets\" for Jupyter support')\n",
       "</pre>\n"
      ],
      "text/plain": [
       "C:\\Users\\LoncarGroup\\AppData\\Roaming\\Python\\Python311\\site-packages\\rich\\live.py\n",
       ":229: UserWarning: install \"ipywidgets\" for Jupyter support\n",
       "  warnings.warn('install \"ipywidgets\" for Jupyter support')\n"
      ]
     },
     "metadata": {},
     "output_type": "display_data"
    },
    {
     "data": {
      "text/html": [
       "<pre style=\"white-space:pre;overflow-x:auto;line-height:normal;font-family:Menlo,'DejaVu Sans Mono',consolas,'Courier New',monospace\"></pre>\n"
      ],
      "text/plain": []
     },
     "metadata": {},
     "output_type": "display_data"
    },
    {
     "data": {
      "text/html": [
       "<pre style=\"white-space:pre;overflow-x:auto;line-height:normal;font-family:Menlo,'DejaVu Sans Mono',consolas,'Courier New',monospace\">\n",
       "</pre>\n"
      ],
      "text/plain": [
       "\n"
      ]
     },
     "metadata": {},
     "output_type": "display_data"
    },
    {
     "name": "stdout",
     "output_type": "stream",
     "text": [
      "The estimated maximum cost is 0.125 Flex Credits.\n"
     ]
    }
   ],
   "source": [
    "extimate_cost(nanopillar_sim)"
   ]
  },
  {
   "cell_type": "markdown",
   "metadata": {},
   "source": [
    "## Run the simulation"
   ]
  },
  {
   "cell_type": "code",
   "execution_count": 7,
   "metadata": {},
   "outputs": [
    {
     "data": {
      "text/html": [
       "<pre style=\"white-space:pre;overflow-x:auto;line-height:normal;font-family:Menlo,'DejaVu Sans Mono',consolas,'Courier New',monospace\"><span style=\"color: #7fbfbf; text-decoration-color: #7fbfbf\">[14:41:35] </span>Created task <span style=\"color: #008000; text-decoration-color: #008000\">'nanopillar_testRun'</span> with task_id                       \n",
       "<span style=\"color: #7fbfbf; text-decoration-color: #7fbfbf\">           </span><span style=\"color: #008000; text-decoration-color: #008000\">'fdve-6159ccc5-6d38-4703-bd77-cb4eb7b686d0'</span>.                         \n",
       "</pre>\n"
      ],
      "text/plain": [
       "\u001b[2;36m[14:41:35]\u001b[0m\u001b[2;36m \u001b[0mCreated task \u001b[32m'nanopillar_testRun'\u001b[0m with task_id                       \n",
       "\u001b[2;36m           \u001b[0m\u001b[32m'fdve-6159ccc5-6d38-4703-bd77-cb4eb7b686d0'\u001b[0m.                         \n"
      ]
     },
     "metadata": {},
     "output_type": "display_data"
    },
    {
     "data": {
      "text/html": [
       "<pre style=\"white-space:pre;overflow-x:auto;line-height:normal;font-family:Menlo,'DejaVu Sans Mono',consolas,'Courier New',monospace\"><span style=\"color: #7fbfbf; text-decoration-color: #7fbfbf\">           </span>View task using web UI at                                            \n",
       "<span style=\"color: #7fbfbf; text-decoration-color: #7fbfbf\">           </span><a href=\"https://tidy3d.simulation.cloud/workbench?taskId=fdve-6159ccc5-6d38-4703-bd77-cb4eb7b686d0\" target=\"_blank\"><span style=\"color: #000080; text-decoration-color: #000080; text-decoration: underline\">'https://tidy3d.simulation.cloud/workbench?taskId=fdve-6159ccc5-6d38-</span></a>\n",
       "<span style=\"color: #7fbfbf; text-decoration-color: #7fbfbf\">           </span><a href=\"https://tidy3d.simulation.cloud/workbench?taskId=fdve-6159ccc5-6d38-4703-bd77-cb4eb7b686d0\" target=\"_blank\"><span style=\"color: #000080; text-decoration-color: #000080; text-decoration: underline\">4703-bd77-cb4eb7b686d0'</span></a><span style=\"color: #000080; text-decoration-color: #000080; text-decoration: underline\">.</span>                                             \n",
       "</pre>\n"
      ],
      "text/plain": [
       "\u001b[2;36m          \u001b[0m\u001b[2;36m \u001b[0mView task using web UI at                                            \n",
       "\u001b[2;36m           \u001b[0m\u001b]8;id=971426;https://tidy3d.simulation.cloud/workbench?taskId=fdve-6159ccc5-6d38-4703-bd77-cb4eb7b686d0\u001b\\\u001b[4;34m'https://tidy3d.simulation.cloud/workbench?\u001b[0m\u001b]8;;\u001b\\\u001b]8;id=519876;https://tidy3d.simulation.cloud/workbench?taskId=fdve-6159ccc5-6d38-4703-bd77-cb4eb7b686d0\u001b\\\u001b[4;34mtaskId\u001b[0m\u001b]8;;\u001b\\\u001b]8;id=971426;https://tidy3d.simulation.cloud/workbench?taskId=fdve-6159ccc5-6d38-4703-bd77-cb4eb7b686d0\u001b\\\u001b[4;34m=\u001b[0m\u001b]8;;\u001b\\\u001b]8;id=625049;https://tidy3d.simulation.cloud/workbench?taskId=fdve-6159ccc5-6d38-4703-bd77-cb4eb7b686d0\u001b\\\u001b[4;34mfdve\u001b[0m\u001b]8;;\u001b\\\u001b]8;id=971426;https://tidy3d.simulation.cloud/workbench?taskId=fdve-6159ccc5-6d38-4703-bd77-cb4eb7b686d0\u001b\\\u001b[4;34m-6159ccc5-6d38-\u001b[0m\u001b]8;;\u001b\\\n",
       "\u001b[2;36m           \u001b[0m\u001b]8;id=971426;https://tidy3d.simulation.cloud/workbench?taskId=fdve-6159ccc5-6d38-4703-bd77-cb4eb7b686d0\u001b\\\u001b[4;34m4703-bd77-cb4eb7b686d0'\u001b[0m\u001b]8;;\u001b\\\u001b[4;34m.\u001b[0m                                             \n"
      ]
     },
     "metadata": {},
     "output_type": "display_data"
    },
    {
     "data": {
      "text/html": [
       "<pre style=\"white-space:pre;overflow-x:auto;line-height:normal;font-family:Menlo,'DejaVu Sans Mono',consolas,'Courier New',monospace\"></pre>\n"
      ],
      "text/plain": []
     },
     "metadata": {},
     "output_type": "display_data"
    },
    {
     "data": {
      "text/html": [
       "<pre style=\"white-space:pre;overflow-x:auto;line-height:normal;font-family:Menlo,'DejaVu Sans Mono',consolas,'Courier New',monospace\">\n",
       "</pre>\n"
      ],
      "text/plain": [
       "\n"
      ]
     },
     "metadata": {},
     "output_type": "display_data"
    },
    {
     "data": {
      "text/html": [
       "<pre style=\"white-space:pre;overflow-x:auto;line-height:normal;font-family:Menlo,'DejaVu Sans Mono',consolas,'Courier New',monospace\"><span style=\"color: #7fbfbf; text-decoration-color: #7fbfbf\">[14:41:36] </span>Created task <span style=\"color: #008000; text-decoration-color: #008000\">'nanopillar_testRun'</span> with task_id                       \n",
       "<span style=\"color: #7fbfbf; text-decoration-color: #7fbfbf\">           </span><span style=\"color: #008000; text-decoration-color: #008000\">'fdve-303b3a5c-ba05-4c63-bcbb-e72a7ab6dced'</span>.                         \n",
       "</pre>\n"
      ],
      "text/plain": [
       "\u001b[2;36m[14:41:36]\u001b[0m\u001b[2;36m \u001b[0mCreated task \u001b[32m'nanopillar_testRun'\u001b[0m with task_id                       \n",
       "\u001b[2;36m           \u001b[0m\u001b[32m'fdve-303b3a5c-ba05-4c63-bcbb-e72a7ab6dced'\u001b[0m.                         \n"
      ]
     },
     "metadata": {},
     "output_type": "display_data"
    },
    {
     "data": {
      "text/html": [
       "<pre style=\"white-space:pre;overflow-x:auto;line-height:normal;font-family:Menlo,'DejaVu Sans Mono',consolas,'Courier New',monospace\"><span style=\"color: #7fbfbf; text-decoration-color: #7fbfbf\">           </span>View task using web UI at                                            \n",
       "<span style=\"color: #7fbfbf; text-decoration-color: #7fbfbf\">           </span><a href=\"https://tidy3d.simulation.cloud/workbench?taskId=fdve-303b3a5c-ba05-4c63-bcbb-e72a7ab6dced\" target=\"_blank\"><span style=\"color: #000080; text-decoration-color: #000080; text-decoration: underline\">'https://tidy3d.simulation.cloud/workbench?taskId=fdve-303b3a5c-ba05-</span></a>\n",
       "<span style=\"color: #7fbfbf; text-decoration-color: #7fbfbf\">           </span><a href=\"https://tidy3d.simulation.cloud/workbench?taskId=fdve-303b3a5c-ba05-4c63-bcbb-e72a7ab6dced\" target=\"_blank\"><span style=\"color: #000080; text-decoration-color: #000080; text-decoration: underline\">4c63-bcbb-e72a7ab6dced'</span></a><span style=\"color: #000080; text-decoration-color: #000080; text-decoration: underline\">.</span>                                             \n",
       "</pre>\n"
      ],
      "text/plain": [
       "\u001b[2;36m          \u001b[0m\u001b[2;36m \u001b[0mView task using web UI at                                            \n",
       "\u001b[2;36m           \u001b[0m\u001b]8;id=314595;https://tidy3d.simulation.cloud/workbench?taskId=fdve-303b3a5c-ba05-4c63-bcbb-e72a7ab6dced\u001b\\\u001b[4;34m'https://tidy3d.simulation.cloud/workbench?\u001b[0m\u001b]8;;\u001b\\\u001b]8;id=661317;https://tidy3d.simulation.cloud/workbench?taskId=fdve-303b3a5c-ba05-4c63-bcbb-e72a7ab6dced\u001b\\\u001b[4;34mtaskId\u001b[0m\u001b]8;;\u001b\\\u001b]8;id=314595;https://tidy3d.simulation.cloud/workbench?taskId=fdve-303b3a5c-ba05-4c63-bcbb-e72a7ab6dced\u001b\\\u001b[4;34m=\u001b[0m\u001b]8;;\u001b\\\u001b]8;id=697417;https://tidy3d.simulation.cloud/workbench?taskId=fdve-303b3a5c-ba05-4c63-bcbb-e72a7ab6dced\u001b\\\u001b[4;34mfdve\u001b[0m\u001b]8;;\u001b\\\u001b]8;id=314595;https://tidy3d.simulation.cloud/workbench?taskId=fdve-303b3a5c-ba05-4c63-bcbb-e72a7ab6dced\u001b\\\u001b[4;34m-303b3a5c-ba05-\u001b[0m\u001b]8;;\u001b\\\n",
       "\u001b[2;36m           \u001b[0m\u001b]8;id=314595;https://tidy3d.simulation.cloud/workbench?taskId=fdve-303b3a5c-ba05-4c63-bcbb-e72a7ab6dced\u001b\\\u001b[4;34m4c63-bcbb-e72a7ab6dced'\u001b[0m\u001b]8;;\u001b\\\u001b[4;34m.\u001b[0m                                             \n"
      ]
     },
     "metadata": {},
     "output_type": "display_data"
    },
    {
     "data": {
      "text/html": [
       "<pre style=\"white-space:pre;overflow-x:auto;line-height:normal;font-family:Menlo,'DejaVu Sans Mono',consolas,'Courier New',monospace\"></pre>\n"
      ],
      "text/plain": []
     },
     "metadata": {},
     "output_type": "display_data"
    },
    {
     "data": {
      "text/html": [
       "<pre style=\"white-space:pre;overflow-x:auto;line-height:normal;font-family:Menlo,'DejaVu Sans Mono',consolas,'Courier New',monospace\">\n",
       "</pre>\n"
      ],
      "text/plain": [
       "\n"
      ]
     },
     "metadata": {},
     "output_type": "display_data"
    },
    {
     "data": {
      "text/html": [
       "<pre style=\"white-space:pre;overflow-x:auto;line-height:normal;font-family:Menlo,'DejaVu Sans Mono',consolas,'Courier New',monospace\"><span style=\"color: #7fbfbf; text-decoration-color: #7fbfbf\">[14:41:37] </span>status = queued                                                      \n",
       "</pre>\n"
      ],
      "text/plain": [
       "\u001b[2;36m[14:41:37]\u001b[0m\u001b[2;36m \u001b[0mstatus = queued                                                      \n"
      ]
     },
     "metadata": {},
     "output_type": "display_data"
    },
    {
     "data": {
      "text/html": [
       "<pre style=\"white-space:pre;overflow-x:auto;line-height:normal;font-family:Menlo,'DejaVu Sans Mono',consolas,'Courier New',monospace\"><span style=\"color: #7fbfbf; text-decoration-color: #7fbfbf\">[14:41:41] </span>status = preprocess                                                  \n",
       "</pre>\n"
      ],
      "text/plain": [
       "\u001b[2;36m[14:41:41]\u001b[0m\u001b[2;36m \u001b[0mstatus = preprocess                                                  \n"
      ]
     },
     "metadata": {},
     "output_type": "display_data"
    },
    {
     "data": {
      "text/html": [
       "<pre style=\"white-space:pre;overflow-x:auto;line-height:normal;font-family:Menlo,'DejaVu Sans Mono',consolas,'Courier New',monospace\"></pre>\n"
      ],
      "text/plain": []
     },
     "metadata": {},
     "output_type": "display_data"
    },
    {
     "data": {
      "text/html": [
       "<pre style=\"white-space:pre;overflow-x:auto;line-height:normal;font-family:Menlo,'DejaVu Sans Mono',consolas,'Courier New',monospace\"><span style=\"color: #7fbfbf; text-decoration-color: #7fbfbf\">[14:41:44] </span>Maximum FlexCredit cost: <span style=\"color: #008080; text-decoration-color: #008080; font-weight: bold\">0.125</span>. Use <span style=\"color: #008000; text-decoration-color: #008000\">'web.real_cost(task_id)'</span> to get  \n",
       "<span style=\"color: #7fbfbf; text-decoration-color: #7fbfbf\">           </span>the billed FlexCredit cost after a simulation run.                   \n",
       "</pre>\n"
      ],
      "text/plain": [
       "\u001b[2;36m[14:41:44]\u001b[0m\u001b[2;36m \u001b[0mMaximum FlexCredit cost: \u001b[1;36m0.125\u001b[0m. Use \u001b[32m'web.real_cost\u001b[0m\u001b[32m(\u001b[0m\u001b[32mtask_id\u001b[0m\u001b[32m)\u001b[0m\u001b[32m'\u001b[0m to get  \n",
       "\u001b[2;36m           \u001b[0mthe billed FlexCredit cost after a simulation run.                   \n"
      ]
     },
     "metadata": {},
     "output_type": "display_data"
    },
    {
     "data": {
      "text/html": [
       "<pre style=\"white-space:pre;overflow-x:auto;line-height:normal;font-family:Menlo,'DejaVu Sans Mono',consolas,'Courier New',monospace\"><span style=\"color: #7fbfbf; text-decoration-color: #7fbfbf\">           </span>starting up solver                                                   \n",
       "</pre>\n"
      ],
      "text/plain": [
       "\u001b[2;36m          \u001b[0m\u001b[2;36m \u001b[0mstarting up solver                                                   \n"
      ]
     },
     "metadata": {},
     "output_type": "display_data"
    },
    {
     "data": {
      "text/html": [
       "<pre style=\"white-space:pre;overflow-x:auto;line-height:normal;font-family:Menlo,'DejaVu Sans Mono',consolas,'Courier New',monospace\"><span style=\"color: #7fbfbf; text-decoration-color: #7fbfbf\">           </span>running solver                                                       \n",
       "</pre>\n"
      ],
      "text/plain": [
       "\u001b[2;36m          \u001b[0m\u001b[2;36m \u001b[0mrunning solver                                                       \n"
      ]
     },
     "metadata": {},
     "output_type": "display_data"
    },
    {
     "data": {
      "text/html": [
       "<pre style=\"white-space:pre;overflow-x:auto;line-height:normal;font-family:Menlo,'DejaVu Sans Mono',consolas,'Courier New',monospace\"><span style=\"color: #7fbfbf; text-decoration-color: #7fbfbf\">           </span>To cancel the simulation, use <span style=\"color: #008000; text-decoration-color: #008000\">'web.abort(task_id)'</span> or                \n",
       "<span style=\"color: #7fbfbf; text-decoration-color: #7fbfbf\">           </span><span style=\"color: #008000; text-decoration-color: #008000\">'web.delete(task_id)'</span> or abort/delete the task in the web UI.        \n",
       "<span style=\"color: #7fbfbf; text-decoration-color: #7fbfbf\">           </span>Terminating the Python script will not stop the job running on the   \n",
       "<span style=\"color: #7fbfbf; text-decoration-color: #7fbfbf\">           </span>cloud.                                                               \n",
       "</pre>\n"
      ],
      "text/plain": [
       "\u001b[2;36m          \u001b[0m\u001b[2;36m \u001b[0mTo cancel the simulation, use \u001b[32m'web.abort\u001b[0m\u001b[32m(\u001b[0m\u001b[32mtask_id\u001b[0m\u001b[32m)\u001b[0m\u001b[32m'\u001b[0m or                \n",
       "\u001b[2;36m           \u001b[0m\u001b[32m'web.delete\u001b[0m\u001b[32m(\u001b[0m\u001b[32mtask_id\u001b[0m\u001b[32m)\u001b[0m\u001b[32m'\u001b[0m or abort/delete the task in the web UI.        \n",
       "\u001b[2;36m           \u001b[0mTerminating the Python script will not stop the job running on the   \n",
       "\u001b[2;36m           \u001b[0mcloud.                                                               \n"
      ]
     },
     "metadata": {},
     "output_type": "display_data"
    },
    {
     "data": {
      "text/html": [
       "<pre style=\"white-space:pre;overflow-x:auto;line-height:normal;font-family:Menlo,'DejaVu Sans Mono',consolas,'Courier New',monospace\"><span style=\"color: #7fbfbf; text-decoration-color: #7fbfbf\">[14:42:02] </span>early shutoff detected, exiting.                                     \n",
       "</pre>\n"
      ],
      "text/plain": [
       "\u001b[2;36m[14:42:02]\u001b[0m\u001b[2;36m \u001b[0mearly shutoff detected, exiting.                                     \n"
      ]
     },
     "metadata": {},
     "output_type": "display_data"
    },
    {
     "data": {
      "text/html": [
       "<pre style=\"white-space:pre;overflow-x:auto;line-height:normal;font-family:Menlo,'DejaVu Sans Mono',consolas,'Courier New',monospace\"></pre>\n"
      ],
      "text/plain": []
     },
     "metadata": {},
     "output_type": "display_data"
    },
    {
     "data": {
      "text/html": [
       "<pre style=\"white-space:pre;overflow-x:auto;line-height:normal;font-family:Menlo,'DejaVu Sans Mono',consolas,'Courier New',monospace\">\n",
       "</pre>\n"
      ],
      "text/plain": [
       "\n"
      ]
     },
     "metadata": {},
     "output_type": "display_data"
    },
    {
     "data": {
      "text/html": [
       "<pre style=\"white-space:pre;overflow-x:auto;line-height:normal;font-family:Menlo,'DejaVu Sans Mono',consolas,'Courier New',monospace\"><span style=\"color: #7fbfbf; text-decoration-color: #7fbfbf\">           </span>status = postprocess                                                 \n",
       "</pre>\n"
      ],
      "text/plain": [
       "\u001b[2;36m          \u001b[0m\u001b[2;36m \u001b[0mstatus = postprocess                                                 \n"
      ]
     },
     "metadata": {},
     "output_type": "display_data"
    },
    {
     "data": {
      "text/html": [
       "<pre style=\"white-space:pre;overflow-x:auto;line-height:normal;font-family:Menlo,'DejaVu Sans Mono',consolas,'Courier New',monospace\"><span style=\"color: #7fbfbf; text-decoration-color: #7fbfbf\">[14:42:03] </span>status = success                                                     \n",
       "</pre>\n"
      ],
      "text/plain": [
       "\u001b[2;36m[14:42:03]\u001b[0m\u001b[2;36m \u001b[0mstatus = success                                                     \n"
      ]
     },
     "metadata": {},
     "output_type": "display_data"
    },
    {
     "data": {
      "text/html": [
       "<pre style=\"white-space:pre;overflow-x:auto;line-height:normal;font-family:Menlo,'DejaVu Sans Mono',consolas,'Courier New',monospace\"></pre>\n"
      ],
      "text/plain": []
     },
     "metadata": {},
     "output_type": "display_data"
    },
    {
     "data": {
      "text/html": [
       "<pre style=\"white-space:pre;overflow-x:auto;line-height:normal;font-family:Menlo,'DejaVu Sans Mono',consolas,'Courier New',monospace\"><span style=\"color: #7fbfbf; text-decoration-color: #7fbfbf\">           </span>View simulation result at                                            \n",
       "<span style=\"color: #7fbfbf; text-decoration-color: #7fbfbf\">           </span><a href=\"https://tidy3d.simulation.cloud/workbench?taskId=fdve-303b3a5c-ba05-4c63-bcbb-e72a7ab6dced\" target=\"_blank\"><span style=\"color: #000080; text-decoration-color: #000080; text-decoration: underline\">'https://tidy3d.simulation.cloud/workbench?taskId=fdve-303b3a5c-ba05-</span></a>\n",
       "<span style=\"color: #7fbfbf; text-decoration-color: #7fbfbf\">           </span><a href=\"https://tidy3d.simulation.cloud/workbench?taskId=fdve-303b3a5c-ba05-4c63-bcbb-e72a7ab6dced\" target=\"_blank\"><span style=\"color: #000080; text-decoration-color: #000080; text-decoration: underline\">4c63-bcbb-e72a7ab6dced'</span></a><span style=\"color: #000080; text-decoration-color: #000080; text-decoration: underline\">.</span>                                             \n",
       "</pre>\n"
      ],
      "text/plain": [
       "\u001b[2;36m          \u001b[0m\u001b[2;36m \u001b[0mView simulation result at                                            \n",
       "\u001b[2;36m           \u001b[0m\u001b]8;id=942052;https://tidy3d.simulation.cloud/workbench?taskId=fdve-303b3a5c-ba05-4c63-bcbb-e72a7ab6dced\u001b\\\u001b[4;34m'https://tidy3d.simulation.cloud/workbench?\u001b[0m\u001b]8;;\u001b\\\u001b]8;id=25629;https://tidy3d.simulation.cloud/workbench?taskId=fdve-303b3a5c-ba05-4c63-bcbb-e72a7ab6dced\u001b\\\u001b[4;34mtaskId\u001b[0m\u001b]8;;\u001b\\\u001b]8;id=942052;https://tidy3d.simulation.cloud/workbench?taskId=fdve-303b3a5c-ba05-4c63-bcbb-e72a7ab6dced\u001b\\\u001b[4;34m=\u001b[0m\u001b]8;;\u001b\\\u001b]8;id=465400;https://tidy3d.simulation.cloud/workbench?taskId=fdve-303b3a5c-ba05-4c63-bcbb-e72a7ab6dced\u001b\\\u001b[4;34mfdve\u001b[0m\u001b]8;;\u001b\\\u001b]8;id=942052;https://tidy3d.simulation.cloud/workbench?taskId=fdve-303b3a5c-ba05-4c63-bcbb-e72a7ab6dced\u001b\\\u001b[4;34m-303b3a5c-ba05-\u001b[0m\u001b]8;;\u001b\\\n",
       "\u001b[2;36m           \u001b[0m\u001b]8;id=942052;https://tidy3d.simulation.cloud/workbench?taskId=fdve-303b3a5c-ba05-4c63-bcbb-e72a7ab6dced\u001b\\\u001b[4;34m4c63-bcbb-e72a7ab6dced'\u001b[0m\u001b]8;;\u001b\\\u001b[4;34m.\u001b[0m                                             \n"
      ]
     },
     "metadata": {},
     "output_type": "display_data"
    },
    {
     "data": {
      "text/html": [
       "<pre style=\"white-space:pre;overflow-x:auto;line-height:normal;font-family:Menlo,'DejaVu Sans Mono',consolas,'Courier New',monospace\"></pre>\n"
      ],
      "text/plain": []
     },
     "metadata": {},
     "output_type": "display_data"
    },
    {
     "data": {
      "text/html": [
       "<pre style=\"white-space:pre;overflow-x:auto;line-height:normal;font-family:Menlo,'DejaVu Sans Mono',consolas,'Courier New',monospace\">\n",
       "</pre>\n"
      ],
      "text/plain": [
       "\n"
      ]
     },
     "metadata": {},
     "output_type": "display_data"
    },
    {
     "data": {
      "text/html": [
       "<pre style=\"white-space:pre;overflow-x:auto;line-height:normal;font-family:Menlo,'DejaVu Sans Mono',consolas,'Courier New',monospace\"><span style=\"color: #7fbfbf; text-decoration-color: #7fbfbf\">[14:42:04] </span>loading SimulationData from .<span style=\"color: #800080; text-decoration-color: #800080\">/data/</span><span style=\"color: #ff00ff; text-decoration-color: #ff00ff\">test_data.hdf5</span>                    \n",
       "</pre>\n"
      ],
      "text/plain": [
       "\u001b[2;36m[14:42:04]\u001b[0m\u001b[2;36m \u001b[0mloading SimulationData from .\u001b[35m/data/\u001b[0m\u001b[95mtest_data.hdf5\u001b[0m                    \n"
      ]
     },
     "metadata": {},
     "output_type": "display_data"
    }
   ],
   "source": [
    "data_path = './data/'\n",
    "file_name = 'test_data.hdf5'\n",
    "task_name ='nanopillar_testRun'\n",
    "sim_data = web_runSim(data_path,file_name,nanopillar_sim,task_name)"
   ]
  },
  {
   "cell_type": "code",
   "execution_count": 11,
   "metadata": {},
   "outputs": [
    {
     "data": {
      "text/plain": [
       "<Axes: title={'center': 'cross section at y=0.00'}, xlabel='x', ylabel='z'>"
      ]
     },
     "execution_count": 11,
     "metadata": {},
     "output_type": "execute_result"
    },
    {
     "data": {
      "image/png": "[encoded data removed]",
      "text/plain": [
       "<Figure size 640x480 with 2 Axes>"
      ]
     },
     "metadata": {},
     "output_type": "display_data"
    }
   ],
   "source": [
    "plot_field_data(sim_data)\n",
    "# sim_data.plot_field(\"field\", \"Ex\", val=\"abs\", y=0)"
   ]
  },
  {
   "cell_type": "code",
   "execution_count": 15,
   "metadata": {},
   "outputs": [
    {
     "name": "stdout",
     "output_type": "stream",
     "text": [
      "<xarray.FluxDataArray (f: 1)>\n",
      "array([-29.880636], dtype=float32)\n",
      "Coordinates:\n",
      "  * f        (f) float64 2.261e+14\n",
      "Attributes:\n",
      "    units:      W\n",
      "    long_name:  flux\n",
      "<xarray.FluxDataArray (f: 1)>\n",
      "array([-418.4718], dtype=float32)\n",
      "Coordinates:\n",
      "  * f        (f) float64 2.261e+14\n",
      "Attributes:\n",
      "    units:      W\n",
      "    long_name:  flux\n"
     ]
    }
   ],
   "source": [
    "plot_flux_data(freqs,sim_data)\n",
    "# top_monitor = sim_data['top_monitor'].flux # flux taken in by the top monitor  \n",
    "# bottom_monitor = sim_data['bottom_monitor'].flux # flux taken in by the bottom monitor  \n",
    "# print(top_monitor)\n",
    "# print(bottom_monitor)"
   ]
  },
  {
   "cell_type": "code",
   "execution_count": null,
   "metadata": {},
   "outputs": [],
   "source": []
  }
 ],
 "metadata": {
  "kernelspec": {
   "display_name": "tidy",
   "language": "python",
   "name": "python3"
  },
  "language_info": {
   "codemirror_mode": {
    "name": "ipython",
    "version": 3
   },
   "file_extension": ".py",
   "mimetype": "text/x-python",
   "name": "python",
   "nbconvert_exporter": "python",
   "pygments_lexer": "ipython3",
   "version": "3.11.5"
  }
 },
 "nbformat": 4,
 "nbformat_minor": 2
}
